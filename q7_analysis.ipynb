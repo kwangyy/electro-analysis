{
 "cells": [
  {
   "cell_type": "code",
   "execution_count": 2,
   "metadata": {},
   "outputs": [],
   "source": [
    "import pandas as pd "
   ]
  },
  {
   "cell_type": "code",
   "execution_count": 3,
   "metadata": {},
   "outputs": [
    {
     "data": {
      "text/html": [
       "<div>\n",
       "<style scoped>\n",
       "    .dataframe tbody tr th:only-of-type {\n",
       "        vertical-align: middle;\n",
       "    }\n",
       "\n",
       "    .dataframe tbody tr th {\n",
       "        vertical-align: top;\n",
       "    }\n",
       "\n",
       "    .dataframe thead th {\n",
       "        text-align: right;\n",
       "    }\n",
       "</style>\n",
       "<table border=\"1\" class=\"dataframe\">\n",
       "  <thead>\n",
       "    <tr style=\"text-align: right;\">\n",
       "      <th></th>\n",
       "      <th>Student Number</th>\n",
       "      <th>Start Time</th>\n",
       "      <th>Submit Time</th>\n",
       "      <th>Status</th>\n",
       "      <th>Q1</th>\n",
       "      <th>Q2</th>\n",
       "      <th>Q2.1</th>\n",
       "      <th>Q2.2</th>\n",
       "      <th>Q2.3</th>\n",
       "      <th>Q3.1</th>\n",
       "      <th>...</th>\n",
       "      <th>Q4.10</th>\n",
       "      <th>Q5</th>\n",
       "      <th>Q6</th>\n",
       "      <th>Q7.1</th>\n",
       "      <th>Q7.2</th>\n",
       "      <th>Q7.3</th>\n",
       "      <th>Q7.4</th>\n",
       "      <th>Q7.5</th>\n",
       "      <th>Q8</th>\n",
       "      <th>Q9</th>\n",
       "    </tr>\n",
       "  </thead>\n",
       "  <tbody>\n",
       "    <tr>\n",
       "      <th>0</th>\n",
       "      <td>1</td>\n",
       "      <td>2022-09-21 10:47:33.463</td>\n",
       "      <td>2022-09-21 10:49:18.587</td>\n",
       "      <td>Submitted</td>\n",
       "      <td>Yes</td>\n",
       "      <td>Pre-University (e.g. Junior College, Polytechn...</td>\n",
       "      <td>No answer</td>\n",
       "      <td>No answer</td>\n",
       "      <td>No answer</td>\n",
       "      <td>Agree</td>\n",
       "      <td>...</td>\n",
       "      <td>True but I am not sure</td>\n",
       "      <td>the measure of the difference in potential</td>\n",
       "      <td>the measure of differencei n voltage</td>\n",
       "      <td>Agree</td>\n",
       "      <td>Agree</td>\n",
       "      <td>Agree</td>\n",
       "      <td>Agree</td>\n",
       "      <td>Agree</td>\n",
       "      <td>nil</td>\n",
       "      <td>nil</td>\n",
       "    </tr>\n",
       "    <tr>\n",
       "      <th>1</th>\n",
       "      <td>2</td>\n",
       "      <td>2022-09-21 14:45:01.423</td>\n",
       "      <td>2022-09-21 14:53:49.160</td>\n",
       "      <td>Submitted</td>\n",
       "      <td>Yes</td>\n",
       "      <td>Pre-University (e.g. Junior College, Polytechn...</td>\n",
       "      <td>in Chemistry teaching labs</td>\n",
       "      <td>No answer</td>\n",
       "      <td>Others</td>\n",
       "      <td>Agree</td>\n",
       "      <td>...</td>\n",
       "      <td>False but I am not sure</td>\n",
       "      <td>Analytical tool used to measure the activity o...</td>\n",
       "      <td>An analytical tool to measure the activity of ...</td>\n",
       "      <td>Agree</td>\n",
       "      <td>Agree</td>\n",
       "      <td>Neutral</td>\n",
       "      <td>Strongly Disagree</td>\n",
       "      <td>Disagree</td>\n",
       "      <td>The project was difficult to carry and quite t...</td>\n",
       "      <td>Thank you prof. Sellou for your fun class and ...</td>\n",
       "    </tr>\n",
       "    <tr>\n",
       "      <th>2</th>\n",
       "      <td>3</td>\n",
       "      <td>2022-09-23 21:25:41.343</td>\n",
       "      <td>2022-09-23 21:34:24.110</td>\n",
       "      <td>Submitted</td>\n",
       "      <td>Yes</td>\n",
       "      <td>Pre-University (e.g. Junior College, Polytechn...</td>\n",
       "      <td>No answer</td>\n",
       "      <td>No answer</td>\n",
       "      <td>No answer</td>\n",
       "      <td>Agree</td>\n",
       "      <td>...</td>\n",
       "      <td>False but I am not sure</td>\n",
       "      <td>the reaction occurs due to differences in elec...</td>\n",
       "      <td>analytical quantification method based on the ...</td>\n",
       "      <td>Agree</td>\n",
       "      <td>Agree</td>\n",
       "      <td>Neutral</td>\n",
       "      <td>Neutral</td>\n",
       "      <td>Agree</td>\n",
       "      <td>Those are really fun experiments!</td>\n",
       "      <td>NIL</td>\n",
       "    </tr>\n",
       "    <tr>\n",
       "      <th>3</th>\n",
       "      <td>5</td>\n",
       "      <td>2022-09-21 13:55:39.683</td>\n",
       "      <td>2022-09-21 14:24:52.207</td>\n",
       "      <td>Submitted</td>\n",
       "      <td>Yes</td>\n",
       "      <td>Pre-University (e.g. Junior College, Polytechn...</td>\n",
       "      <td>in Chemistry teaching labs</td>\n",
       "      <td>No answer</td>\n",
       "      <td>No answer</td>\n",
       "      <td>Agree</td>\n",
       "      <td>...</td>\n",
       "      <td>True, I am confident</td>\n",
       "      <td>The measure of voltage between two half cell t...</td>\n",
       "      <td>It is the measurement of current when a forced...</td>\n",
       "      <td>Neutral</td>\n",
       "      <td>Disagree</td>\n",
       "      <td>Disagree</td>\n",
       "      <td>Disagree</td>\n",
       "      <td>Strongly Disagree</td>\n",
       "      <td>Firstly, the instructions were not very clear ...</td>\n",
       "      <td>Please take note that the assessment of the pr...</td>\n",
       "    </tr>\n",
       "    <tr>\n",
       "      <th>4</th>\n",
       "      <td>6</td>\n",
       "      <td>2022-09-20 21:04:34.863</td>\n",
       "      <td>2022-09-20 21:18:33.347</td>\n",
       "      <td>Submitted</td>\n",
       "      <td>Yes</td>\n",
       "      <td>Pre-University (e.g. Junior College, Polytechn...</td>\n",
       "      <td>in Chemistry teaching labs</td>\n",
       "      <td>No answer</td>\n",
       "      <td>No answer</td>\n",
       "      <td>Agree</td>\n",
       "      <td>...</td>\n",
       "      <td>False, I am confident</td>\n",
       "      <td>Potentiometry, electrolytic cell without batte...</td>\n",
       "      <td>Voltammetry (Electrolysis with potential appli...</td>\n",
       "      <td>Agree</td>\n",
       "      <td>Agree</td>\n",
       "      <td>Strongly Disagree</td>\n",
       "      <td>Agree</td>\n",
       "      <td>Neutral</td>\n",
       "      <td>The hands-on tutorial and project were a good ...</td>\n",
       "      <td>nil</td>\n",
       "    </tr>\n",
       "  </tbody>\n",
       "</table>\n",
       "<p>5 rows × 43 columns</p>\n",
       "</div>"
      ],
      "text/plain": [
       "   Student Number               Start Time              Submit Time  \\\n",
       "0               1  2022-09-21 10:47:33.463  2022-09-21 10:49:18.587   \n",
       "1               2  2022-09-21 14:45:01.423  2022-09-21 14:53:49.160   \n",
       "2               3  2022-09-23 21:25:41.343  2022-09-23 21:34:24.110   \n",
       "3               5  2022-09-21 13:55:39.683  2022-09-21 14:24:52.207   \n",
       "4               6  2022-09-20 21:04:34.863  2022-09-20 21:18:33.347   \n",
       "\n",
       "      Status   Q1                                                 Q2  \\\n",
       "0  Submitted  Yes  Pre-University (e.g. Junior College, Polytechn...   \n",
       "1  Submitted  Yes  Pre-University (e.g. Junior College, Polytechn...   \n",
       "2  Submitted  Yes  Pre-University (e.g. Junior College, Polytechn...   \n",
       "3  Submitted  Yes  Pre-University (e.g. Junior College, Polytechn...   \n",
       "4  Submitted  Yes  Pre-University (e.g. Junior College, Polytechn...   \n",
       "\n",
       "                         Q2.1       Q2.2       Q2.3   Q3.1  ...  \\\n",
       "0                   No answer  No answer  No answer  Agree  ...   \n",
       "1  in Chemistry teaching labs  No answer     Others  Agree  ...   \n",
       "2                   No answer  No answer  No answer  Agree  ...   \n",
       "3  in Chemistry teaching labs  No answer  No answer  Agree  ...   \n",
       "4  in Chemistry teaching labs  No answer  No answer  Agree  ...   \n",
       "\n",
       "                     Q4.10                                                 Q5  \\\n",
       "0   True but I am not sure        the measure of the difference in potential    \n",
       "1  False but I am not sure  Analytical tool used to measure the activity o...   \n",
       "2  False but I am not sure  the reaction occurs due to differences in elec...   \n",
       "3     True, I am confident  The measure of voltage between two half cell t...   \n",
       "4    False, I am confident  Potentiometry, electrolytic cell without batte...   \n",
       "\n",
       "                                                  Q6     Q7.1      Q7.2  \\\n",
       "0               the measure of differencei n voltage    Agree     Agree   \n",
       "1  An analytical tool to measure the activity of ...    Agree     Agree   \n",
       "2  analytical quantification method based on the ...    Agree     Agree   \n",
       "3  It is the measurement of current when a forced...  Neutral  Disagree   \n",
       "4  Voltammetry (Electrolysis with potential appli...    Agree     Agree   \n",
       "\n",
       "                Q7.3               Q7.4               Q7.5  \\\n",
       "0              Agree              Agree              Agree   \n",
       "1            Neutral  Strongly Disagree           Disagree   \n",
       "2            Neutral            Neutral              Agree   \n",
       "3           Disagree           Disagree  Strongly Disagree   \n",
       "4  Strongly Disagree              Agree            Neutral   \n",
       "\n",
       "                                                  Q8  \\\n",
       "0                                                nil   \n",
       "1  The project was difficult to carry and quite t...   \n",
       "2                 Those are really fun experiments!    \n",
       "3  Firstly, the instructions were not very clear ...   \n",
       "4  The hands-on tutorial and project were a good ...   \n",
       "\n",
       "                                                  Q9  \n",
       "0                                                nil  \n",
       "1  Thank you prof. Sellou for your fun class and ...  \n",
       "2                                                NIL  \n",
       "3  Please take note that the assessment of the pr...  \n",
       "4                                                nil  \n",
       "\n",
       "[5 rows x 43 columns]"
      ]
     },
     "execution_count": 3,
     "metadata": {},
     "output_type": "execute_result"
    }
   ],
   "source": [
    "post_course = pd.read_csv('post_course.csv', index_col=0)\n",
    "\n",
    "post_course.head()"
   ]
  },
  {
   "cell_type": "code",
   "execution_count": 4,
   "metadata": {},
   "outputs": [
    {
     "data": {
      "text/html": [
       "<div>\n",
       "<style scoped>\n",
       "    .dataframe tbody tr th:only-of-type {\n",
       "        vertical-align: middle;\n",
       "    }\n",
       "\n",
       "    .dataframe tbody tr th {\n",
       "        vertical-align: top;\n",
       "    }\n",
       "\n",
       "    .dataframe thead th {\n",
       "        text-align: right;\n",
       "    }\n",
       "</style>\n",
       "<table border=\"1\" class=\"dataframe\">\n",
       "  <thead>\n",
       "    <tr style=\"text-align: right;\">\n",
       "      <th></th>\n",
       "      <th>Q7.1</th>\n",
       "      <th>Q7.2</th>\n",
       "      <th>Q7.3</th>\n",
       "      <th>Q7.4</th>\n",
       "      <th>Q7.5</th>\n",
       "    </tr>\n",
       "  </thead>\n",
       "  <tbody>\n",
       "    <tr>\n",
       "      <th>0</th>\n",
       "      <td>Agree</td>\n",
       "      <td>Agree</td>\n",
       "      <td>Agree</td>\n",
       "      <td>Agree</td>\n",
       "      <td>Agree</td>\n",
       "    </tr>\n",
       "    <tr>\n",
       "      <th>1</th>\n",
       "      <td>Agree</td>\n",
       "      <td>Agree</td>\n",
       "      <td>Neutral</td>\n",
       "      <td>Strongly Disagree</td>\n",
       "      <td>Disagree</td>\n",
       "    </tr>\n",
       "    <tr>\n",
       "      <th>2</th>\n",
       "      <td>Agree</td>\n",
       "      <td>Agree</td>\n",
       "      <td>Neutral</td>\n",
       "      <td>Neutral</td>\n",
       "      <td>Agree</td>\n",
       "    </tr>\n",
       "    <tr>\n",
       "      <th>3</th>\n",
       "      <td>Neutral</td>\n",
       "      <td>Disagree</td>\n",
       "      <td>Disagree</td>\n",
       "      <td>Disagree</td>\n",
       "      <td>Strongly Disagree</td>\n",
       "    </tr>\n",
       "    <tr>\n",
       "      <th>4</th>\n",
       "      <td>Agree</td>\n",
       "      <td>Agree</td>\n",
       "      <td>Strongly Disagree</td>\n",
       "      <td>Agree</td>\n",
       "      <td>Neutral</td>\n",
       "    </tr>\n",
       "    <tr>\n",
       "      <th>5</th>\n",
       "      <td>Agree</td>\n",
       "      <td>Disagree</td>\n",
       "      <td>Neutral</td>\n",
       "      <td>Strongly Disagree</td>\n",
       "      <td>Strongly Disagree</td>\n",
       "    </tr>\n",
       "    <tr>\n",
       "      <th>6</th>\n",
       "      <td>NaN</td>\n",
       "      <td>NaN</td>\n",
       "      <td>NaN</td>\n",
       "      <td>NaN</td>\n",
       "      <td>NaN</td>\n",
       "    </tr>\n",
       "    <tr>\n",
       "      <th>7</th>\n",
       "      <td>Agree</td>\n",
       "      <td>Strongly Disagree</td>\n",
       "      <td>Agree</td>\n",
       "      <td>Neutral</td>\n",
       "      <td>Strongly Agree</td>\n",
       "    </tr>\n",
       "    <tr>\n",
       "      <th>8</th>\n",
       "      <td>Disagree</td>\n",
       "      <td>Strongly Disagree</td>\n",
       "      <td>Disagree</td>\n",
       "      <td>Disagree</td>\n",
       "      <td>Strongly Disagree</td>\n",
       "    </tr>\n",
       "    <tr>\n",
       "      <th>9</th>\n",
       "      <td>Strongly Agree</td>\n",
       "      <td>Strongly Agree</td>\n",
       "      <td>Strongly Agree</td>\n",
       "      <td>Strongly Agree</td>\n",
       "      <td>Strongly Agree</td>\n",
       "    </tr>\n",
       "  </tbody>\n",
       "</table>\n",
       "</div>"
      ],
      "text/plain": [
       "             Q7.1               Q7.2               Q7.3               Q7.4  \\\n",
       "0           Agree              Agree              Agree              Agree   \n",
       "1           Agree              Agree            Neutral  Strongly Disagree   \n",
       "2           Agree              Agree            Neutral            Neutral   \n",
       "3         Neutral           Disagree           Disagree           Disagree   \n",
       "4           Agree              Agree  Strongly Disagree              Agree   \n",
       "5           Agree           Disagree            Neutral  Strongly Disagree   \n",
       "6             NaN                NaN                NaN                NaN   \n",
       "7           Agree  Strongly Disagree              Agree            Neutral   \n",
       "8        Disagree  Strongly Disagree           Disagree           Disagree   \n",
       "9  Strongly Agree     Strongly Agree     Strongly Agree     Strongly Agree   \n",
       "\n",
       "                Q7.5  \n",
       "0              Agree  \n",
       "1           Disagree  \n",
       "2              Agree  \n",
       "3  Strongly Disagree  \n",
       "4            Neutral  \n",
       "5  Strongly Disagree  \n",
       "6                NaN  \n",
       "7     Strongly Agree  \n",
       "8  Strongly Disagree  \n",
       "9     Strongly Agree  "
      ]
     },
     "execution_count": 4,
     "metadata": {},
     "output_type": "execute_result"
    }
   ],
   "source": [
    "post_course_q7 = post_course.filter(regex='Q7')\n",
    "post_course_q7.head(10)"
   ]
  },
  {
   "cell_type": "code",
   "execution_count": 2,
   "metadata": {},
   "outputs": [
    {
     "data": {
      "text/plain": [
       "'\\nif we want to map it to a numerical value\\n\\nmap_d = {\\n    \"Strongly Agree\": 5,\\n    \"Agree\": 4,\\n    \"Neutral\": 3,\\n    \"Disagree\": 2,\\n    \"Strongly Disagree\": 1\\n}\\n\\npost_course_q7 = post_course_q7.applymap(lambda x: map_d[x] if x in map_d else x)\\npost_course_q7.dropna(inplace = True)\\n\\n'"
      ]
     },
     "execution_count": 2,
     "metadata": {},
     "output_type": "execute_result"
    }
   ],
   "source": [
    "'''\n",
    "if we want to map it to a numerical value\n",
    "\n",
    "map_d = {\n",
    "    \"Strongly Agree\": 5,\n",
    "    \"Agree\": 4,\n",
    "    \"Neutral\": 3,\n",
    "    \"Disagree\": 2,\n",
    "    \"Strongly Disagree\": 1\n",
    "}\n",
    "\n",
    "post_course_q7 = post_course_q7.applymap(lambda x: map_d[x] if x in map_d else x)\n",
    "post_course_q7.dropna(inplace = True)\n",
    "\n",
    "'''"
   ]
  },
  {
   "cell_type": "code",
   "execution_count": 6,
   "metadata": {},
   "outputs": [],
   "source": [
    "import matplotlib.pyplot as plt\n",
    "import seaborn as sns "
   ]
  },
  {
   "cell_type": "code",
   "execution_count": 7,
   "metadata": {},
   "outputs": [
    {
     "data": {
      "image/png": "[encoded data removed]",
      "text/plain": [
       "<Figure size 720x432 with 1 Axes>"
      ]
     },
     "metadata": {
      "needs_background": "light"
     },
     "output_type": "display_data"
    },
    {
     "data": {
      "image/png": "[encoded data removed]",
      "text/plain": [
       "<Figure size 720x432 with 1 Axes>"
      ]
     },
     "metadata": {
      "needs_background": "light"
     },
     "output_type": "display_data"
    },
    {
     "data": {
      "image/png": "[encoded data removed]",
      "text/plain": [
       "<Figure size 720x432 with 1 Axes>"
      ]
     },
     "metadata": {
      "needs_background": "light"
     },
     "output_type": "display_data"
    },
    {
     "data": {
      "image/png": "[encoded data removed]",
      "text/plain": [
       "<Figure size 720x432 with 1 Axes>"
      ]
     },
     "metadata": {
      "needs_background": "light"
     },
     "output_type": "display_data"
    },
    {
     "data": {
      "image/png": "[encoded data removed]",
      "text/plain": [
       "<Figure size 720x432 with 1 Axes>"
      ]
     },
     "metadata": {
      "needs_background": "light"
     },
     "output_type": "display_data"
    }
   ],
   "source": [
    "for col in post_course_q7.columns:\n",
    "    plt.figure(figsize=(10,6))\n",
    "    q7_value_counts = post_course_q7[col].value_counts(normalize = True)\n",
    "    sns.barplot(x = q7_value_counts.index, y = q7_value_counts, order = ['Strongly Agree', 'Agree', 'Neutral', 'Disagree', 'Strongly Disagree'])\n",
    "    plt.title(col)\n",
    "    plt.show()\n",
    "    "
   ]
  },
  {
   "cell_type": "code",
   "execution_count": 13,
   "metadata": {},
   "outputs": [
    {
     "data": {
      "text/plain": [
       "Neutral              0.327273\n",
       "Agree                0.309091\n",
       "Strongly Agree       0.236364\n",
       "Strongly Disagree    0.072727\n",
       "Disagree             0.054545\n",
       "Name: Q7.5, dtype: float64"
      ]
     },
     "execution_count": 13,
     "metadata": {},
     "output_type": "execute_result"
    }
   ],
   "source": [
    "post_course_q7[\"Q7.5\"].value_counts(normalize=True)"
   ]
  },
  {
   "attachments": {},
   "cell_type": "markdown",
   "metadata": {},
   "source": [
    "- have to discuss each q\n",
    "- have to talk about strong extremes / neutrals \n",
    "\n",
    "- have to decide on the bins (i.e. neutral with agree or its own category)\n",
    "- analyse each question \n",
    "\n",
    "prof linda will explain:\n",
    "- it's easy to carry out but difficult to understand\n",
    "\n",
    "join 1 2 5 together --> electrochemistry in general\n",
    "3 and 4 together --> project itself \n",
    "\n",
    "q3 q4 might have casual relationship --> people who find it hard to understand might find it hard to carry out \n",
    "--> statistical testing of the relationship itself"
   ]
  },
  {
   "attachments": {},
   "cell_type": "markdown",
   "metadata": {},
   "source": []
  }
 ],
 "metadata": {
  "kernelspec": {
   "display_name": "Python 3",
   "language": "python",
   "name": "python3"
  },
  "language_info": {
   "codemirror_mode": {
    "name": "ipython",
    "version": 3
   },
   "file_extension": ".py",
   "mimetype": "text/x-python",
   "name": "python",
   "nbconvert_exporter": "python",
   "pygments_lexer": "ipython3",
   "version": "3.8.10"
  },
  "orig_nbformat": 4
 },
 "nbformat": 4,
 "nbformat_minor": 2
}
